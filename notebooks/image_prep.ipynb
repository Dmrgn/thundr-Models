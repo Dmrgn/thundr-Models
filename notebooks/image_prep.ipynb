{
 "cells": [
  {
   "cell_type": "code",
   "execution_count": 15,
   "id": "c266088e",
   "metadata": {},
   "outputs": [],
   "source": [
    "import jsonlines\n",
    "import aiohttp\n",
    "import asyncio\n",
    "from PIL import Image\n",
    "import io\n",
    "import os\n",
    "import uuid\n",
    "from typing import Optional"
   ]
  },
  {
   "cell_type": "code",
   "execution_count": null,
   "id": "f3645ced",
   "metadata": {},
   "outputs": [],
   "source": [
    "images_urls = []\n",
    "with jsonlines.open(\"data/items_thundrbot_9.jsonl\") as reader:\n",
    "    for site in reader:\n",
    "        if site[\"labeled_images\"] is not None:\n",
    "            for image in site[\"labeled_images\"]:\n",
    "                images_urls.append(image[\"url\"])"
   ]
  },
  {
   "cell_type": "code",
   "execution_count": null,
   "id": "8c3a8c22",
   "metadata": {},
   "outputs": [],
   "source": [
    "text_pairs = []\n",
    "with jsonlines.open(\"data/items_thundrbot_9.jsonl\") as reader:\n",
    "    for site in reader:\n",
    "        if site[\"labeled_text\"] is not None:\n",
    "            for text in site[\"labeled_text\"]:\n",
    "                text_pairs.append(text)"
   ]
  },
  {
   "cell_type": "code",
   "execution_count": null,
   "id": "8d55a56c",
   "metadata": {},
   "outputs": [],
   "source": [
    "with jsonlines.open(\"data/text_pairs_dataset.jsonl\", \"w\") as writer:\n",
    "    writer.write_all(text_pairs)"
   ]
  },
  {
   "cell_type": "code",
   "execution_count": null,
   "id": "31be2820",
   "metadata": {},
   "outputs": [],
   "source": [
    "async def download_resize_image(image_url: str, target_directory: str, filename: str) -> None:\n",
    "    # Download the image using aiohttp\n",
    "    try:\n",
    "        async with aiohttp.ClientSession() as session:\n",
    "            async with session.get(image_url) as response:\n",
    "                response.raise_for_status()\n",
    "                image_bytes = await response.read()\n",
    "    except:\n",
    "        print(\"Failed:\", image_url)\n",
    "        return\n",
    "    # Open the image from the downloaded bytes\n",
    "    with Image.open(io.BytesIO(image_bytes)) as img:\n",
    "        # Ensure image is in RGBA for proper transparency handling\n",
    "        img = img.convert(\"RGBA\")\n",
    "        # Create a new 400x400 background with pink color\n",
    "        bg_color = (255, 39, 255)\n",
    "        new_img = Image.new(\"RGB\", (400, 400), bg_color)\n",
    "        \n",
    "        img.thumbnail((400, 400), Image.LANCZOS)\n",
    "        # Calculate coordinates to center the image on the background\n",
    "        left = (400 - img.width) // 2\n",
    "        top = (400 - img.height) // 2\n",
    "        # Paste the resized image onto the off-gray background using the image's alpha channel as mask\n",
    "        new_img.paste(img, (left, top), img)\n",
    "    # Ensure target directory exists\n",
    "    os.makedirs(target_directory, exist_ok=True)\n",
    "    file_path = os.path.join(target_directory, filename)\n",
    "    # Save the resized image\n",
    "    new_img.save(file_path)\n",
    "    # print(f\"Image saved to {file_path}\")\n"
   ]
  },
  {
   "cell_type": "code",
   "execution_count": null,
   "id": "50dac822",
   "metadata": {},
   "outputs": [],
   "source": [
    "# Example usage within an asyncio event loop:\n",
    "async def main():\n",
    "    async with asyncio.TaskGroup() as tg:\n",
    "        for url in images_urls:\n",
    "            tg.create_task(download_resize_image(url, \"./images\", str(uuid.uuid4()).split(\"-\")[0] + \".png\"))\n",
    "\n",
    "# Run the example if this script is executed directly\n",
    "# if __name__ == \"__main__\":\n",
    "#     asyncio.run(main())\n",
    "await main()"
   ]
  }
 ],
 "metadata": {
  "kernelspec": {
   "display_name": ".venv",
   "language": "python",
   "name": "python3"
  },
  "language_info": {
   "codemirror_mode": {
    "name": "ipython",
    "version": 3
   },
   "file_extension": ".py",
   "mimetype": "text/x-python",
   "name": "python",
   "nbconvert_exporter": "python",
   "pygments_lexer": "ipython3",
   "version": "3.11.12"
  }
 },
 "nbformat": 4,
 "nbformat_minor": 5
}
