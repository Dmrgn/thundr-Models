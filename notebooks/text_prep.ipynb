{
 "cells": [
  {
   "cell_type": "code",
   "execution_count": 4,
   "id": "1a9716bd",
   "metadata": {},
   "outputs": [],
   "source": [
    "import json\n",
    "from tensorflow.keras.preprocessing.text import Tokenizer"
   ]
  },
  {
   "cell_type": "code",
   "execution_count": 6,
   "id": "ece10136",
   "metadata": {},
   "outputs": [],
   "source": [
    "# Read and parse JSONL file\n",
    "texts = []\n",
    "with open(\"text_pairs_dataset.jsonlines\", 'r') as f:\n",
    "    for line in f:\n",
    "        if line.strip():\n",
    "            data = json.loads(line)\n",
    "            texts.append(data['sentence'].lower())\n",
    "\n",
    "# Create and fit tokenizer\n",
    "tokenizer = Tokenizer(num_words=2000, \n",
    "                        filters='!\"#$%&()*+,-./:;<=>?@[\\\\]^_`{|}~\\t\\n',\n",
    "                        lower=True,\n",
    "                        split=' ',\n",
    "                        oov_token=None)\n",
    "\n",
    "tokenizer.fit_on_texts(texts)\n",
    "\n",
    "# Save vocabulary mappings\n",
    "vocab = {\n",
    "    'word_index': tokenizer.word_index,\n",
    "    'index_word': tokenizer.index_word,\n",
    "    'config': tokenizer.get_config()\n",
    "}\n",
    "\n",
    "with open('vocab.json', 'w') as f:\n",
    "    json.dump(vocab, f, indent=4)"
   ]
  }
 ],
 "metadata": {
  "kernelspec": {
   "display_name": ".venv",
   "language": "python",
   "name": "python3"
  },
  "language_info": {
   "codemirror_mode": {
    "name": "ipython",
    "version": 3
   },
   "file_extension": ".py",
   "mimetype": "text/x-python",
   "name": "python",
   "nbconvert_exporter": "python",
   "pygments_lexer": "ipython3",
   "version": "3.11.12"
  }
 },
 "nbformat": 4,
 "nbformat_minor": 5
}
